{
 "cells": [
  {
   "cell_type": "code",
   "execution_count": null,
   "metadata": {
    "collapsed": true
   },
   "outputs": [],
   "source": [
    "import pandas as pd\n",
    "import numpy as np\n",
    "%matplotlib inline\n",
    "import sklearn.model_selection as cv\n",
    "import sklearn"
   ]
  },
  {
   "cell_type": "code",
   "execution_count": null,
   "metadata": {},
   "outputs": [],
   "source": [
    "## Load dataset\n",
    "data = pd.read_csv(\"dataWithTextWords.csv\", encoding='latin1', low_memory=False)\n",
    "data.head()"
   ]
  },
  {
   "cell_type": "code",
   "execution_count": null,
   "metadata": {
    "scrolled": true
   },
   "outputs": [],
   "source": [
    "data = data.drop(['_unit_id', '_golden', '_unit_state', '_trusted_judgments', '_last_judgment_at',\n",
    "               'gender:confidence', 'profile_yn', 'profile_yn:confidence', 'created', 'description',\n",
    "               'fav_number', 'gender_gold', 'link_color', 'name', 'profile_yn_gold', 'profileimage',\n",
    "               'sidebar_color', 'text', 'tweet_count', 'tweet_created', 'tweet_id', 'tweet_location',\n",
    "               'retweet_count', 'tweet_coord', 'user_timezone'], axis=1);\n",
    "data = data[data.gender.notnull()]\n",
    "data.head()"
   ]
  },
  {
   "cell_type": "code",
   "execution_count": null,
   "metadata": {},
   "outputs": [],
   "source": [
    "# All values must be numeric, label included\n",
    "def genderToNumeric(gender) :\n",
    "    if gender == 'male' :\n",
    "        return 0\n",
    "    elif gender == 'female' :\n",
    "        return 1\n",
    "    else :\n",
    "        return 2\n",
    "\n",
    "\n",
    "labels = data.gender.apply(lambda g: genderToNumeric(g))\n",
    "datadt = data.drop('gender', axis=1)\n",
    "\n",
    "print(data.shape)\n",
    "datadt.head()"
   ]
  },
  {
   "cell_type": "code",
   "execution_count": null,
   "metadata": {
    "collapsed": true
   },
   "outputs": [],
   "source": [
    "# Cross-validation: split data into training and test sets (test 30% of data)\n",
    "data_train, data_test, labels_train, labels_test = cv.train_test_split(datadt, labels, test_size=.3, random_state=1)"
   ]
  },
  {
   "cell_type": "code",
   "execution_count": null,
   "metadata": {},
   "outputs": [],
   "source": [
    "data_train.info()\n",
    "data.iloc[data_train.head().index]"
   ]
  },
  {
   "cell_type": "code",
   "execution_count": null,
   "metadata": {},
   "outputs": [],
   "source": [
    "data_test.info()\n",
    "data.iloc[data_test.head().index]"
   ]
  },
  {
   "cell_type": "code",
   "execution_count": null,
   "metadata": {},
   "outputs": [],
   "source": [
    "from sklearn import tree\n",
    "from sklearn.externals.six import StringIO  \n",
    "import pydot\n",
    "from IPython.display import Image \n",
    "from statsmodels.stats.proportion import proportion_confint\n",
    "\n",
    "clf = tree.DecisionTreeClassifier(criterion='entropy')\n",
    "pred = clf.fit(data_train, labels_train).predict(data_test)\n",
    "print(sklearn.metrics.confusion_matrix(labels_test, pred))\n",
    "print()\n",
    "print(\"Accuracy on test set:\", sklearn.metrics.accuracy_score(labels_test, pred))\n",
    "print()\n",
    "print(sklearn.metrics.classification_report(labels_test, pred))\n",
    "epsilon = sklearn.metrics.accuracy_score(labels_test, pred)\n",
    "print(\"Confidence interval: \",proportion_confint(count=epsilon*data_test.shape[0], nobs=data_test.shape[0], alpha=0.05, method='binom_test'))\n",
    "\n",
    "#scores = sklearn.model_selection.cross_val_score(clf, Xn, y, cv=10)\n",
    "#print(\"Accuracy on 10 fold cross-validation:\", scores)\n",
    "#print(np.mean(scores))\n",
    "\n",
    "## Print tree\n",
    "# dot_data = StringIO() \n",
    "# tree.export_graphviz(clf, out_file=dot_data,    \n",
    "#                          filled=True, rounded=True,\n",
    "#                          feature_names=list(datadt.columns.values),  \n",
    "#                          special_characters=True)  \n",
    "# graph = pydot.graph_from_dot_data(dot_data.getvalue())  \n",
    "# Image(graph[0].create_png())  \n"
   ]
  }
 ],
 "metadata": {
  "kernelspec": {
   "display_name": "Python 3",
   "language": "python",
   "name": "python3"
  },
  "language_info": {
   "codemirror_mode": {
    "name": "ipython",
    "version": 3
   },
   "file_extension": ".py",
   "mimetype": "text/x-python",
   "name": "python",
   "nbconvert_exporter": "python",
   "pygments_lexer": "ipython3",
   "version": "3.6.3"
  }
 },
 "nbformat": 4,
 "nbformat_minor": 2
}
