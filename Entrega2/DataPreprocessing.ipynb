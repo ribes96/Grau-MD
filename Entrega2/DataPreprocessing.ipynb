{
 "cells": [
  {
   "cell_type": "markdown",
   "metadata": {},
   "source": [
    "# 1- Load the required modules"
   ]
  },
  {
   "cell_type": "code",
   "execution_count": null,
   "metadata": {
    "collapsed": true
   },
   "outputs": [],
   "source": [
    "import pandas as pd\n",
    "import numpy as np\n",
    "%matplotlib inline\n",
    "import sklearn.model_selection as cv\n",
    "import sklearn\n",
    "# You must install the library colour and colorclassifier:\n",
    "# Run the command \"pip install colour colorclassifier colormath==1.0.8\n",
    "from colour import Color\n",
    "from colorclassifier import Classifier"
   ]
  },
  {
   "cell_type": "markdown",
   "metadata": {},
   "source": [
    "# 2- Load csv file with preprocessed location"
   ]
  },
  {
   "cell_type": "code",
   "execution_count": null,
   "metadata": {},
   "outputs": [],
   "source": [
    "ENCODING = 'latin1'\n",
    "\n",
    "# Read csv file with preprocessed locations\n",
    "# The original locations were imputed to country locations\n",
    "data = pd.read_csv(\"tweet_location_preprocessing/gender-classifier-tweet-location-preprocessed-0-18933.csv\", encoding=ENCODING)\n",
    "data.head()"
   ]
  },
  {
   "cell_type": "markdown",
   "metadata": {},
   "source": [
    "# 3- Select attrs that will be used"
   ]
  },
  {
   "cell_type": "code",
   "execution_count": null,
   "metadata": {},
   "outputs": [],
   "source": [
    "# Drop attributes that we won't use\n",
    "data = data.drop(['Unnamed: 0', '_unit_id', '_golden', '_unit_state', '_trusted_judgments', '_last_judgment_at', 'gender:confidence', 'profile_yn', 'profile_yn:confidence', 'gender_gold', 'profile_yn_gold', 'profileimage', 'tweet_id'], axis=1);\n",
    "data.head()"
   ]
  },
  {
   "cell_type": "markdown",
   "metadata": {},
   "source": [
    "# 4- Preprocess fields with string values and transform coordinates to binary"
   ]
  },
  {
   "cell_type": "code",
   "execution_count": null,
   "metadata": {},
   "outputs": [],
   "source": [
    "# Description attr treatment. Change to number of words writed\n",
    "for index, row in data.iterrows() :\n",
    "    data.set_value(index, 'description', len(str(row['description'])))\n",
    "    data.set_value(index, 'text', len(str(row['text'])))\n",
    "    data.set_value(index, 'tweet_coord', \"false\" if pd.isnull(row['tweet_coord']) else \"true\")\n",
    "\n",
    "data.rename(columns={'description': 'description_length', 'text': 'text_length'}, inplace=True)\n",
    "data.head()"
   ]
  },
  {
   "cell_type": "markdown",
   "metadata": {},
   "source": [
    "# 5- Change color values to color categories"
   ]
  },
  {
   "cell_type": "code",
   "execution_count": null,
   "metadata": {},
   "outputs": [],
   "source": [
    "def hexToColor(hex):\n",
    "    l = len(hex)\n",
    "    if (l > 6): return 0\n",
    "    if (l < 6): hex = hex + '0' * (6 - l)\n",
    "    rgb = Color('#' + hex).rgb\n",
    "    i = lambda f: int(round(f))\n",
    "    return Classifier(rgb = [i(rgb[0]*255), i(rgb[1]*255), i(rgb[2]*255)]).get_name()\n",
    "\n",
    "data['sidebar_color'] = data['sidebar_color'].apply(hexToColor)\n",
    "#Hay 14 colores distintos sin contar los valores del estilo \"1.10E+17\" para los que se ha puesto \"0\"\n",
    "#Son los colores de la libreria Classifier, de los que se elige el más similar.\n",
    "print(\"Sidebar colors:\")\n",
    "print(data['sidebar_color'].unique())\n",
    "\n",
    "data['link_color'] = data['link_color'].apply(hexToColor)\n",
    "print(\"Link colors:\")\n",
    "print(data['link_color'].unique())\n",
    "\n",
    "\n",
    "time = lambda t: 'Unknown' if pd.isnull(t) else t\n",
    "data['user_timezone'] = data['user_timezone'].apply(time)\n",
    "data.head()"
   ]
  },
  {
   "cell_type": "code",
   "execution_count": null,
   "metadata": {
    "collapsed": true
   },
   "outputs": [],
   "source": [
    "data.to_csv('datapreprocessed.csv', encoding=ENCODING, index=False)"
   ]
  }
 ],
 "metadata": {
  "kernelspec": {
   "display_name": "Python 3",
   "language": "python",
   "name": "python3"
  },
  "language_info": {
   "codemirror_mode": {
    "name": "ipython",
    "version": 3
   },
   "file_extension": ".py",
   "mimetype": "text/x-python",
   "name": "python",
   "nbconvert_exporter": "python",
   "pygments_lexer": "ipython3",
   "version": "3.6.3"
  }
 },
 "nbformat": 4,
 "nbformat_minor": 2
}
