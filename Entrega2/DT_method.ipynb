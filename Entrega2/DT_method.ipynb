{
 "cells": [
  {
   "cell_type": "code",
   "execution_count": null,
   "metadata": {
    "collapsed": true
   },
   "outputs": [],
   "source": [
    "import pandas as pd\n",
    "import numpy as np\n",
    "%matplotlib inline\n",
    "import sklearn.model_selection as cv\n",
    "import sklearn"
   ]
  },
  {
   "cell_type": "code",
   "execution_count": null,
   "metadata": {},
   "outputs": [],
   "source": [
    "## Load dataset\n",
    "data = pd.read_csv(\"datapreprocessed.csv\", encoding='latin1')\n",
    "data.head()"
   ]
  },
  {
   "cell_type": "code",
   "execution_count": null,
   "metadata": {},
   "outputs": [],
   "source": [
    "def expand_categoric_column_with_binary_values(column_name):\n",
    "    global data\n",
    "    print(column_name)\n",
    "    print(data[column_name].unique())\n",
    "    data = pd.concat([\n",
    "            data.drop(column_name, axis=1),\n",
    "            pd.get_dummies(data[column_name], prefix=column_name, sparse=True)\n",
    "        ], axis=1)\n",
    "\n",
    "expand_categoric_column_with_binary_values('created')\n",
    "expand_categoric_column_with_binary_values('tweet_created')\n",
    "expand_categoric_column_with_binary_values('link_color')\n",
    "expand_categoric_column_with_binary_values('sidebar_color')\n",
    "expand_categoric_column_with_binary_values('tweet_location')\n",
    "expand_categoric_column_with_binary_values('user_timezone')\n",
    "\n",
    "data.head()"
   ]
  },
  {
   "cell_type": "code",
   "execution_count": null,
   "metadata": {},
   "outputs": [],
   "source": [
    "def boolean_to_binary(column_name):\n",
    "    global data\n",
    "    data[column_name] = data[column_name].apply(lambda boolean: int(boolean))\n",
    "\n",
    "boolean_to_binary('tweet_coord')\n",
    "\n",
    "data.tweet_coord.sum()"
   ]
  },
  {
   "cell_type": "code",
   "execution_count": null,
   "metadata": {},
   "outputs": [],
   "source": [
    "# All values must be numeric, label included\n",
    "def genderToNumeric(gender) :\n",
    "    if gender == 'male' :\n",
    "        return 0\n",
    "    elif gender == 'female' :\n",
    "        return 1\n",
    "    else :\n",
    "        return 2\n",
    "\n",
    "\n",
    "labels = data.gender.apply(lambda g: genderToNumeric(g))\n",
    "datadt = data.drop('gender', axis=1)\n",
    "\n",
    "print(data.shape)\n",
    "datadt.head()"
   ]
  },
  {
   "cell_type": "code",
   "execution_count": null,
   "metadata": {},
   "outputs": [],
   "source": [
    "data[data.gender.isnull()]"
   ]
  },
  {
   "cell_type": "code",
   "execution_count": null,
   "metadata": {
    "collapsed": true
   },
   "outputs": [],
   "source": [
    "# Cross-validation: split data into training and test sets (test 30% of data)\n",
    "data_train, data_test, labels_train, labels_test = cv.train_test_split(datadt, labels, test_size=.3, random_state=1)"
   ]
  },
  {
   "cell_type": "code",
   "execution_count": null,
   "metadata": {},
   "outputs": [],
   "source": [
    "data_train.info()\n",
    "data.iloc[data_train.head().index]"
   ]
  },
  {
   "cell_type": "code",
   "execution_count": null,
   "metadata": {},
   "outputs": [],
   "source": [
    "data_test.info()\n",
    "data.iloc[data_test.head().index]"
   ]
  },
  {
   "cell_type": "code",
   "execution_count": null,
   "metadata": {},
   "outputs": [],
   "source": [
    "from sklearn import tree\n",
    "from sklearn.externals.six import StringIO  \n",
    "import pydot\n",
    "from IPython.display import Image \n",
    "from statsmodels.stats.proportion import proportion_confint\n",
    "\n",
    "clf = tree.DecisionTreeClassifier(criterion='entropy')\n",
    "pred = clf.fit(data_train, labels_train).predict(data_test)\n",
    "print(sklearn.metrics.confusion_matrix(labels_test, pred))\n",
    "print()\n",
    "print(\"Accuracy on test set:\", sklearn.metrics.accuracy_score(labels_test, pred))\n",
    "print()\n",
    "print(sklearn.metrics.classification_report(labels_test, pred))\n",
    "epsilon = sklearn.metrics.accuracy_score(labels_test, pred)\n",
    "print(\"Confidence interval: \",proportion_confint(count=epsilon*data_test.shape[0], nobs=data_test.shape[0], alpha=0.05, method='binom_test'))\n",
    "\n",
    "#scores = sklearn.model_selection.cross_val_score(clf, Xn, y, cv=10)\n",
    "#print(\"Accuracy on 10 fold cross-validation:\", scores)\n",
    "#print(np.mean(scores))\n",
    "\n",
    "## Print tree\n",
    "# dot_data = StringIO() \n",
    "# tree.export_graphviz(clf, out_file=dot_data,    \n",
    "#                          filled=True, rounded=True,\n",
    "#                          feature_names=list(datadt.columns.values),  \n",
    "#                          special_characters=True)  \n",
    "# graph = pydot.graph_from_dot_data(dot_data.getvalue())  \n",
    "# Image(graph[0].create_png())  \n"
   ]
  }
 ],
 "metadata": {
  "kernelspec": {
   "display_name": "Python 3",
   "language": "python",
   "name": "python3"
  },
  "language_info": {
   "codemirror_mode": {
    "name": "ipython",
    "version": 3
   },
   "file_extension": ".py",
   "mimetype": "text/x-python",
   "name": "python",
   "nbconvert_exporter": "python",
   "pygments_lexer": "ipython3",
   "version": "3.6.3"
  }
 },
 "nbformat": 4,
 "nbformat_minor": 2
}
